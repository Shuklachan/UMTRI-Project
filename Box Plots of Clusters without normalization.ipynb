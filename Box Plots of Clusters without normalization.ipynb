{
 "cells": [
  {
   "cell_type": "code",
   "execution_count": 1,
   "metadata": {},
   "outputs": [
    {
     "name": "stdout",
     "output_type": "stream",
     "text": [
      "Fetching package metadata .............\n",
      "Solving package specifications: .\n",
      "\n",
      "Package plan for installation in environment C:\\ProgramData\\Anaconda3:\n",
      "\n",
      "The following NEW packages will be INSTALLED:\n",
      "\n",
      "    kiwisolver: 1.0.1-py36h12c3424_0 \n",
      "\n",
      "The following packages will be UPDATED:\n",
      "\n",
      "    anaconda:   5.0.1-py36h8316230_2  --> custom-py36h363777c_0\n",
      "    conda:      4.3.30-py36h7e176b0_0 --> 4.4.11-py36_0        \n",
      "    libpng:     1.6.32-vc14h5163883_3 --> 1.6.34-h79bbb47_0    \n",
      "    matplotlib: 2.1.0-py36h11b4b9c_0  --> 2.2.0-py36h4dabdea_0 \n",
      "    pycosat:    0.6.2-py36hf17546d_1  --> 0.6.3-py36h413d8a4_0 \n",
      "\n"
     ]
    },
    {
     "name": "stderr",
     "output_type": "stream",
     "text": [
      "\n",
      "CondaIOError: Missing write permissions in: C:\\ProgramData\\Anaconda3\n",
      "#\n",
      "# You don't appear to have the necessary permissions to install packages\n",
      "# into the install area 'C:\\ProgramData\\Anaconda3'.\n",
      "# However you can clone this environment into your home directory and\n",
      "# then make changes to it.\n",
      "# This may be done using the command:\n",
      "#\n",
      "# $ conda create -n my_root --clone=\"C:\\ProgramData\\Anaconda3\"\n",
      "\n",
      "\n"
     ]
    }
   ],
   "source": [
    "import sys\n",
    "!conda install --yes --prefix {sys.prefix} matplotlib"
   ]
  },
  {
   "cell_type": "markdown",
   "metadata": {},
   "source": [
    "Loading the data"
   ]
  },
  {
   "cell_type": "code",
   "execution_count": 5,
   "metadata": {},
   "outputs": [],
   "source": [
    "from IPython.display import Image\n",
    "import pandas as pd\n",
    "import numpy as np\n",
    "from pandas import read_csv\n",
    "import matplotlib.pyplot as plt\n",
    "data = read_csv('driver_features_2.txt', delimiter='\\t',header=None)\n",
    "X=data.iloc[:, 0:9].values"
   ]
  },
  {
   "cell_type": "markdown",
   "metadata": {},
   "source": [
    "Checking for optimal number of cluster"
   ]
  },
  {
   "cell_type": "code",
   "execution_count": 6,
   "metadata": {},
   "outputs": [
    {
     "data": {
      "image/png": "[encoded data removed]",
      "text/plain": [
       "<matplotlib.figure.Figure at 0x1e1ce940898>"
      ]
     },
     "metadata": {},
     "output_type": "display_data"
    },
    {
     "name": "stdout",
     "output_type": "stream",
     "text": [
      "Distortion: 2488560672.97\n"
     ]
    }
   ],
   "source": [
    "distortions = []\n",
    "from sklearn.cluster import KMeans\n",
    "for i in range(1, 11):\n",
    "    km = KMeans(n_clusters=i, \n",
    "                init='k-means++', \n",
    "                n_init=10, \n",
    "                max_iter=300, \n",
    "                random_state=0)\n",
    "    km.fit(X)\n",
    "    distortions.append(km.inertia_)\n",
    "plt.plot(range(1, 11), distortions, marker='o')\n",
    "plt.xlabel('Number of clusters')\n",
    "plt.ylabel('Distortion')\n",
    "plt.tight_layout()\n",
    "plt.show()\n",
    "print('Distortion: %.2f' % km.inertia_)"
   ]
  },
  {
   "cell_type": "markdown",
   "metadata": {},
   "source": [
    "It seems from the elbow test that the number of cluster is 5. So let us try with number of cluster as 5"
   ]
  },
  {
   "cell_type": "code",
   "execution_count": 7,
   "metadata": {
    "collapsed": true
   },
   "outputs": [],
   "source": [
    "from sklearn.cluster import KMeans\n",
    "\n",
    "km = KMeans(n_clusters=5, \n",
    "            init='random', \n",
    "            n_init=10, \n",
    "            max_iter=3000,\n",
    "            tol=1e-10,\n",
    "            random_state=0)\n",
    "\n",
    "y_km = km.fit_predict(X)\n"
   ]
  },
  {
   "cell_type": "markdown",
   "metadata": {},
   "source": [
    "Clustering is done. Now it is time to plot them properly"
   ]
  },
  {
   "cell_type": "markdown",
   "metadata": {},
   "source": [
    "## We plan to do the summary statistics and box plot for the clusters formed\n"
   ]
  },
  {
   "cell_type": "markdown",
   "metadata": {},
   "source": [
    "General thing useful for all "
   ]
  },
  {
   "cell_type": "code",
   "execution_count": 8,
   "metadata": {
    "collapsed": true
   },
   "outputs": [],
   "source": [
    "from scipy import stats\n",
    "%matplotlib inline\n",
    "import matplotlib.pyplot as plt\n",
    "columns=['car_level','driver_authorized','gender',\n",
    "     'age','license_issue_1','license_issue_2',\n",
    "     'work_time','service_score']"
   ]
  },
  {
   "cell_type": "markdown",
   "metadata": {},
   "source": [
    "### Cluster #1"
   ]
  },
  {
   "cell_type": "code",
   "execution_count": 134,
   "metadata": {},
   "outputs": [
    {
     "data": {
      "image/png": "[encoded data removed]",
      "text/plain": [
       "<matplotlib.figure.Figure at 0x18a786652e8>"
      ]
     },
     "metadata": {},
     "output_type": "display_data"
    }
   ],
   "source": [
    "cl_1=X[y_km==0]\n",
    "plt.boxplot(cl_1);"
   ]
  },
  {
   "cell_type": "code",
   "execution_count": 122,
   "metadata": {},
   "outputs": [
    {
     "data": {
      "text/html": [
       "<div>\n",
       "<style>\n",
       "    .dataframe thead tr:only-child th {\n",
       "        text-align: right;\n",
       "    }\n",
       "\n",
       "    .dataframe thead th {\n",
       "        text-align: left;\n",
       "    }\n",
       "\n",
       "    .dataframe tbody tr th {\n",
       "        vertical-align: top;\n",
       "    }\n",
       "</style>\n",
       "<table border=\"1\" class=\"dataframe\">\n",
       "  <thead>\n",
       "    <tr style=\"text-align: right;\">\n",
       "      <th></th>\n",
       "      <th>car_level</th>\n",
       "      <th>driver_authorized</th>\n",
       "      <th>gender</th>\n",
       "      <th>age</th>\n",
       "      <th>license_issue_1</th>\n",
       "      <th>license_issue_2</th>\n",
       "      <th>work_time</th>\n",
       "      <th>service_score</th>\n",
       "    </tr>\n",
       "  </thead>\n",
       "  <tbody>\n",
       "    <tr>\n",
       "      <th>count</th>\n",
       "      <td>9734.0</td>\n",
       "      <td>9734.000000</td>\n",
       "      <td>9734.000000</td>\n",
       "      <td>9734.000000</td>\n",
       "      <td>9734.000000</td>\n",
       "      <td>9734.000000</td>\n",
       "      <td>9734.000000</td>\n",
       "      <td>9734.000000</td>\n",
       "    </tr>\n",
       "    <tr>\n",
       "      <th>mean</th>\n",
       "      <td>100.0</td>\n",
       "      <td>0.910006</td>\n",
       "      <td>0.982535</td>\n",
       "      <td>38.643928</td>\n",
       "      <td>2004.488597</td>\n",
       "      <td>6.573043</td>\n",
       "      <td>23.360089</td>\n",
       "      <td>80.792141</td>\n",
       "    </tr>\n",
       "    <tr>\n",
       "      <th>std</th>\n",
       "      <td>0.0</td>\n",
       "      <td>0.286188</td>\n",
       "      <td>0.131001</td>\n",
       "      <td>7.698868</td>\n",
       "      <td>5.965863</td>\n",
       "      <td>3.397795</td>\n",
       "      <td>9.384239</td>\n",
       "      <td>13.024681</td>\n",
       "    </tr>\n",
       "    <tr>\n",
       "      <th>min</th>\n",
       "      <td>100.0</td>\n",
       "      <td>0.000000</td>\n",
       "      <td>0.000000</td>\n",
       "      <td>22.000000</td>\n",
       "      <td>1981.000000</td>\n",
       "      <td>1.000000</td>\n",
       "      <td>0.002900</td>\n",
       "      <td>0.004100</td>\n",
       "    </tr>\n",
       "    <tr>\n",
       "      <th>25%</th>\n",
       "      <td>100.0</td>\n",
       "      <td>1.000000</td>\n",
       "      <td>1.000000</td>\n",
       "      <td>33.000000</td>\n",
       "      <td>2001.000000</td>\n",
       "      <td>4.000000</td>\n",
       "      <td>16.948150</td>\n",
       "      <td>77.673050</td>\n",
       "    </tr>\n",
       "    <tr>\n",
       "      <th>50%</th>\n",
       "      <td>100.0</td>\n",
       "      <td>1.000000</td>\n",
       "      <td>1.000000</td>\n",
       "      <td>39.000000</td>\n",
       "      <td>2006.000000</td>\n",
       "      <td>7.000000</td>\n",
       "      <td>27.120800</td>\n",
       "      <td>84.136700</td>\n",
       "    </tr>\n",
       "    <tr>\n",
       "      <th>75%</th>\n",
       "      <td>100.0</td>\n",
       "      <td>1.000000</td>\n",
       "      <td>1.000000</td>\n",
       "      <td>45.000000</td>\n",
       "      <td>2009.000000</td>\n",
       "      <td>9.000000</td>\n",
       "      <td>30.570600</td>\n",
       "      <td>88.126550</td>\n",
       "    </tr>\n",
       "    <tr>\n",
       "      <th>max</th>\n",
       "      <td>100.0</td>\n",
       "      <td>1.000000</td>\n",
       "      <td>1.000000</td>\n",
       "      <td>58.000000</td>\n",
       "      <td>2015.000000</td>\n",
       "      <td>12.000000</td>\n",
       "      <td>40.831200</td>\n",
       "      <td>100.887700</td>\n",
       "    </tr>\n",
       "  </tbody>\n",
       "</table>\n",
       "</div>"
      ],
      "text/plain": [
       "       car_level  driver_authorized       gender          age  \\\n",
       "count     9734.0        9734.000000  9734.000000  9734.000000   \n",
       "mean       100.0           0.910006     0.982535    38.643928   \n",
       "std          0.0           0.286188     0.131001     7.698868   \n",
       "min        100.0           0.000000     0.000000    22.000000   \n",
       "25%        100.0           1.000000     1.000000    33.000000   \n",
       "50%        100.0           1.000000     1.000000    39.000000   \n",
       "75%        100.0           1.000000     1.000000    45.000000   \n",
       "max        100.0           1.000000     1.000000    58.000000   \n",
       "\n",
       "       license_issue_1  license_issue_2    work_time  service_score  \n",
       "count      9734.000000      9734.000000  9734.000000    9734.000000  \n",
       "mean       2004.488597         6.573043    23.360089      80.792141  \n",
       "std           5.965863         3.397795     9.384239      13.024681  \n",
       "min        1981.000000         1.000000     0.002900       0.004100  \n",
       "25%        2001.000000         4.000000    16.948150      77.673050  \n",
       "50%        2006.000000         7.000000    27.120800      84.136700  \n",
       "75%        2009.000000         9.000000    30.570600      88.126550  \n",
       "max        2015.000000        12.000000    40.831200     100.887700  "
      ]
     },
     "execution_count": 122,
     "metadata": {},
     "output_type": "execute_result"
    }
   ],
   "source": [
    "df = pd.DataFrame(cl_1,columns=columns)\n",
    "df.describe()"
   ]
  },
  {
   "cell_type": "markdown",
   "metadata": {},
   "source": [
    "### Cluster #2"
   ]
  },
  {
   "cell_type": "code",
   "execution_count": 135,
   "metadata": {},
   "outputs": [
    {
     "data": {
      "image/png": "[encoded data removed]",
      "text/plain": [
       "<matplotlib.figure.Figure at 0x18a783b9c50>"
      ]
     },
     "metadata": {},
     "output_type": "display_data"
    }
   ],
   "source": [
    "cl_2=X[y_km==1]\n",
    "plt.boxplot(cl_2);"
   ]
  },
  {
   "cell_type": "code",
   "execution_count": 126,
   "metadata": {},
   "outputs": [
    {
     "data": {
      "text/html": [
       "<div>\n",
       "<style>\n",
       "    .dataframe thead tr:only-child th {\n",
       "        text-align: right;\n",
       "    }\n",
       "\n",
       "    .dataframe thead th {\n",
       "        text-align: left;\n",
       "    }\n",
       "\n",
       "    .dataframe tbody tr th {\n",
       "        vertical-align: top;\n",
       "    }\n",
       "</style>\n",
       "<table border=\"1\" class=\"dataframe\">\n",
       "  <thead>\n",
       "    <tr style=\"text-align: right;\">\n",
       "      <th></th>\n",
       "      <th>car_level</th>\n",
       "      <th>driver_authorized</th>\n",
       "      <th>gender</th>\n",
       "      <th>age</th>\n",
       "      <th>license_issue_1</th>\n",
       "      <th>license_issue_2</th>\n",
       "      <th>work_time</th>\n",
       "      <th>service_score</th>\n",
       "    </tr>\n",
       "  </thead>\n",
       "  <tbody>\n",
       "    <tr>\n",
       "      <th>count</th>\n",
       "      <td>71741.000000</td>\n",
       "      <td>71741.000000</td>\n",
       "      <td>71741.000000</td>\n",
       "      <td>71741.000000</td>\n",
       "      <td>71741.000000</td>\n",
       "      <td>71741.000000</td>\n",
       "      <td>71741.000000</td>\n",
       "      <td>71741.000000</td>\n",
       "    </tr>\n",
       "    <tr>\n",
       "      <th>mean</th>\n",
       "      <td>497.973265</td>\n",
       "      <td>0.019779</td>\n",
       "      <td>0.936577</td>\n",
       "      <td>38.959214</td>\n",
       "      <td>2005.169777</td>\n",
       "      <td>6.694443</td>\n",
       "      <td>16.204334</td>\n",
       "      <td>84.440269</td>\n",
       "    </tr>\n",
       "    <tr>\n",
       "      <th>std</th>\n",
       "      <td>14.091438</td>\n",
       "      <td>0.139243</td>\n",
       "      <td>0.243723</td>\n",
       "      <td>8.585452</td>\n",
       "      <td>6.408580</td>\n",
       "      <td>3.400977</td>\n",
       "      <td>10.808116</td>\n",
       "      <td>9.640616</td>\n",
       "    </tr>\n",
       "    <tr>\n",
       "      <th>min</th>\n",
       "      <td>400.000000</td>\n",
       "      <td>0.000000</td>\n",
       "      <td>0.000000</td>\n",
       "      <td>20.000000</td>\n",
       "      <td>1966.000000</td>\n",
       "      <td>1.000000</td>\n",
       "      <td>0.000100</td>\n",
       "      <td>0.021100</td>\n",
       "    </tr>\n",
       "    <tr>\n",
       "      <th>25%</th>\n",
       "      <td>500.000000</td>\n",
       "      <td>0.000000</td>\n",
       "      <td>1.000000</td>\n",
       "      <td>32.000000</td>\n",
       "      <td>2001.000000</td>\n",
       "      <td>4.000000</td>\n",
       "      <td>4.832100</td>\n",
       "      <td>82.074100</td>\n",
       "    </tr>\n",
       "    <tr>\n",
       "      <th>50%</th>\n",
       "      <td>500.000000</td>\n",
       "      <td>0.000000</td>\n",
       "      <td>1.000000</td>\n",
       "      <td>38.000000</td>\n",
       "      <td>2007.000000</td>\n",
       "      <td>7.000000</td>\n",
       "      <td>16.857300</td>\n",
       "      <td>86.253300</td>\n",
       "    </tr>\n",
       "    <tr>\n",
       "      <th>75%</th>\n",
       "      <td>500.000000</td>\n",
       "      <td>0.000000</td>\n",
       "      <td>1.000000</td>\n",
       "      <td>46.000000</td>\n",
       "      <td>2010.000000</td>\n",
       "      <td>10.000000</td>\n",
       "      <td>26.887100</td>\n",
       "      <td>89.221300</td>\n",
       "    </tr>\n",
       "    <tr>\n",
       "      <th>max</th>\n",
       "      <td>500.000000</td>\n",
       "      <td>1.000000</td>\n",
       "      <td>1.000000</td>\n",
       "      <td>62.000000</td>\n",
       "      <td>2017.000000</td>\n",
       "      <td>12.000000</td>\n",
       "      <td>40.961100</td>\n",
       "      <td>100.974800</td>\n",
       "    </tr>\n",
       "  </tbody>\n",
       "</table>\n",
       "</div>"
      ],
      "text/plain": [
       "          car_level  driver_authorized        gender           age  \\\n",
       "count  71741.000000       71741.000000  71741.000000  71741.000000   \n",
       "mean     497.973265           0.019779      0.936577     38.959214   \n",
       "std       14.091438           0.139243      0.243723      8.585452   \n",
       "min      400.000000           0.000000      0.000000     20.000000   \n",
       "25%      500.000000           0.000000      1.000000     32.000000   \n",
       "50%      500.000000           0.000000      1.000000     38.000000   \n",
       "75%      500.000000           0.000000      1.000000     46.000000   \n",
       "max      500.000000           1.000000      1.000000     62.000000   \n",
       "\n",
       "       license_issue_1  license_issue_2     work_time  service_score  \n",
       "count     71741.000000     71741.000000  71741.000000   71741.000000  \n",
       "mean       2005.169777         6.694443     16.204334      84.440269  \n",
       "std           6.408580         3.400977     10.808116       9.640616  \n",
       "min        1966.000000         1.000000      0.000100       0.021100  \n",
       "25%        2001.000000         4.000000      4.832100      82.074100  \n",
       "50%        2007.000000         7.000000     16.857300      86.253300  \n",
       "75%        2010.000000        10.000000     26.887100      89.221300  \n",
       "max        2017.000000        12.000000     40.961100     100.974800  "
      ]
     },
     "execution_count": 126,
     "metadata": {},
     "output_type": "execute_result"
    }
   ],
   "source": [
    "df = pd.DataFrame(cl_2,columns=columns)\n",
    "df.describe()"
   ]
  },
  {
   "cell_type": "markdown",
   "metadata": {},
   "source": [
    "### Cluster#3"
   ]
  },
  {
   "cell_type": "code",
   "execution_count": 136,
   "metadata": {},
   "outputs": [
    {
     "data": {
      "image/png": "[encoded data removed]",
      "text/plain": [
       "<matplotlib.figure.Figure at 0x18a786a5cc0>"
      ]
     },
     "metadata": {},
     "output_type": "display_data"
    }
   ],
   "source": [
    "cl_3=X[y_km==2]\n",
    "plt.boxplot(cl_3);"
   ]
  },
  {
   "cell_type": "code",
   "execution_count": 128,
   "metadata": {},
   "outputs": [
    {
     "data": {
      "text/html": [
       "<div>\n",
       "<style>\n",
       "    .dataframe thead tr:only-child th {\n",
       "        text-align: right;\n",
       "    }\n",
       "\n",
       "    .dataframe thead th {\n",
       "        text-align: left;\n",
       "    }\n",
       "\n",
       "    .dataframe tbody tr th {\n",
       "        vertical-align: top;\n",
       "    }\n",
       "</style>\n",
       "<table border=\"1\" class=\"dataframe\">\n",
       "  <thead>\n",
       "    <tr style=\"text-align: right;\">\n",
       "      <th></th>\n",
       "      <th>car_level</th>\n",
       "      <th>driver_authorized</th>\n",
       "      <th>gender</th>\n",
       "      <th>age</th>\n",
       "      <th>license_issue_1</th>\n",
       "      <th>license_issue_2</th>\n",
       "      <th>work_time</th>\n",
       "      <th>service_score</th>\n",
       "    </tr>\n",
       "  </thead>\n",
       "  <tbody>\n",
       "    <tr>\n",
       "      <th>count</th>\n",
       "      <td>7.000000</td>\n",
       "      <td>7.000000</td>\n",
       "      <td>7.000000</td>\n",
       "      <td>7.000000</td>\n",
       "      <td>7.000000</td>\n",
       "      <td>7.000000</td>\n",
       "      <td>7.000000</td>\n",
       "      <td>7.000000</td>\n",
       "    </tr>\n",
       "    <tr>\n",
       "      <th>mean</th>\n",
       "      <td>271.428571</td>\n",
       "      <td>0.571429</td>\n",
       "      <td>0.428571</td>\n",
       "      <td>34.857143</td>\n",
       "      <td>2009.714286</td>\n",
       "      <td>7.142857</td>\n",
       "      <td>24568.553043</td>\n",
       "      <td>88.127471</td>\n",
       "    </tr>\n",
       "    <tr>\n",
       "      <th>std</th>\n",
       "      <td>213.808994</td>\n",
       "      <td>0.534522</td>\n",
       "      <td>0.534522</td>\n",
       "      <td>2.478479</td>\n",
       "      <td>2.360387</td>\n",
       "      <td>1.772811</td>\n",
       "      <td>0.243016</td>\n",
       "      <td>9.983031</td>\n",
       "    </tr>\n",
       "    <tr>\n",
       "      <th>min</th>\n",
       "      <td>100.000000</td>\n",
       "      <td>0.000000</td>\n",
       "      <td>0.000000</td>\n",
       "      <td>32.000000</td>\n",
       "      <td>2006.000000</td>\n",
       "      <td>5.000000</td>\n",
       "      <td>24568.056200</td>\n",
       "      <td>75.612900</td>\n",
       "    </tr>\n",
       "    <tr>\n",
       "      <th>25%</th>\n",
       "      <td>100.000000</td>\n",
       "      <td>0.000000</td>\n",
       "      <td>0.000000</td>\n",
       "      <td>33.000000</td>\n",
       "      <td>2008.000000</td>\n",
       "      <td>5.500000</td>\n",
       "      <td>24568.546050</td>\n",
       "      <td>78.863500</td>\n",
       "    </tr>\n",
       "    <tr>\n",
       "      <th>50%</th>\n",
       "      <td>100.000000</td>\n",
       "      <td>1.000000</td>\n",
       "      <td>0.000000</td>\n",
       "      <td>34.000000</td>\n",
       "      <td>2011.000000</td>\n",
       "      <td>8.000000</td>\n",
       "      <td>24568.603400</td>\n",
       "      <td>94.029900</td>\n",
       "    </tr>\n",
       "    <tr>\n",
       "      <th>75%</th>\n",
       "      <td>500.000000</td>\n",
       "      <td>1.000000</td>\n",
       "      <td>1.000000</td>\n",
       "      <td>37.000000</td>\n",
       "      <td>2011.500000</td>\n",
       "      <td>8.500000</td>\n",
       "      <td>24568.637800</td>\n",
       "      <td>95.832300</td>\n",
       "    </tr>\n",
       "    <tr>\n",
       "      <th>max</th>\n",
       "      <td>500.000000</td>\n",
       "      <td>1.000000</td>\n",
       "      <td>1.000000</td>\n",
       "      <td>38.000000</td>\n",
       "      <td>2012.000000</td>\n",
       "      <td>9.000000</td>\n",
       "      <td>24568.844000</td>\n",
       "      <td>97.857900</td>\n",
       "    </tr>\n",
       "  </tbody>\n",
       "</table>\n",
       "</div>"
      ],
      "text/plain": [
       "        car_level  driver_authorized    gender        age  license_issue_1  \\\n",
       "count    7.000000           7.000000  7.000000   7.000000         7.000000   \n",
       "mean   271.428571           0.571429  0.428571  34.857143      2009.714286   \n",
       "std    213.808994           0.534522  0.534522   2.478479         2.360387   \n",
       "min    100.000000           0.000000  0.000000  32.000000      2006.000000   \n",
       "25%    100.000000           0.000000  0.000000  33.000000      2008.000000   \n",
       "50%    100.000000           1.000000  0.000000  34.000000      2011.000000   \n",
       "75%    500.000000           1.000000  1.000000  37.000000      2011.500000   \n",
       "max    500.000000           1.000000  1.000000  38.000000      2012.000000   \n",
       "\n",
       "       license_issue_2     work_time  service_score  \n",
       "count         7.000000      7.000000       7.000000  \n",
       "mean          7.142857  24568.553043      88.127471  \n",
       "std           1.772811      0.243016       9.983031  \n",
       "min           5.000000  24568.056200      75.612900  \n",
       "25%           5.500000  24568.546050      78.863500  \n",
       "50%           8.000000  24568.603400      94.029900  \n",
       "75%           8.500000  24568.637800      95.832300  \n",
       "max           9.000000  24568.844000      97.857900  "
      ]
     },
     "execution_count": 128,
     "metadata": {},
     "output_type": "execute_result"
    }
   ],
   "source": [
    "df = pd.DataFrame(cl_3,columns=columns)\n",
    "df.describe()"
   ]
  },
  {
   "cell_type": "markdown",
   "metadata": {},
   "source": [
    "### Cluster#4"
   ]
  },
  {
   "cell_type": "code",
   "execution_count": 137,
   "metadata": {},
   "outputs": [
    {
     "data": {
      "image/png": "[encoded data removed]",
      "text/plain": [
       "<matplotlib.figure.Figure at 0x18a78531cc0>"
      ]
     },
     "metadata": {},
     "output_type": "display_data"
    }
   ],
   "source": [
    "cl_4=X[y_km==3]\n",
    "plt.boxplot(cl_4);"
   ]
  },
  {
   "cell_type": "code",
   "execution_count": 130,
   "metadata": {},
   "outputs": [
    {
     "data": {
      "text/html": [
       "<div>\n",
       "<style>\n",
       "    .dataframe thead tr:only-child th {\n",
       "        text-align: right;\n",
       "    }\n",
       "\n",
       "    .dataframe thead th {\n",
       "        text-align: left;\n",
       "    }\n",
       "\n",
       "    .dataframe tbody tr th {\n",
       "        vertical-align: top;\n",
       "    }\n",
       "</style>\n",
       "<table border=\"1\" class=\"dataframe\">\n",
       "  <thead>\n",
       "    <tr style=\"text-align: right;\">\n",
       "      <th></th>\n",
       "      <th>car_level</th>\n",
       "      <th>driver_authorized</th>\n",
       "      <th>gender</th>\n",
       "      <th>age</th>\n",
       "      <th>license_issue_1</th>\n",
       "      <th>license_issue_2</th>\n",
       "      <th>work_time</th>\n",
       "      <th>service_score</th>\n",
       "    </tr>\n",
       "  </thead>\n",
       "  <tbody>\n",
       "    <tr>\n",
       "      <th>count</th>\n",
       "      <td>17979.0</td>\n",
       "      <td>17979.0</td>\n",
       "      <td>17979.000000</td>\n",
       "      <td>17979.000000</td>\n",
       "      <td>17979.000000</td>\n",
       "      <td>17979.000000</td>\n",
       "      <td>17979.000000</td>\n",
       "      <td>17979.000000</td>\n",
       "    </tr>\n",
       "    <tr>\n",
       "      <th>mean</th>\n",
       "      <td>900.0</td>\n",
       "      <td>0.0</td>\n",
       "      <td>0.961121</td>\n",
       "      <td>40.813171</td>\n",
       "      <td>2003.417932</td>\n",
       "      <td>6.636910</td>\n",
       "      <td>19.798982</td>\n",
       "      <td>86.291727</td>\n",
       "    </tr>\n",
       "    <tr>\n",
       "      <th>std</th>\n",
       "      <td>0.0</td>\n",
       "      <td>0.0</td>\n",
       "      <td>0.193311</td>\n",
       "      <td>8.481247</td>\n",
       "      <td>6.698062</td>\n",
       "      <td>3.413911</td>\n",
       "      <td>9.154004</td>\n",
       "      <td>5.214407</td>\n",
       "    </tr>\n",
       "    <tr>\n",
       "      <th>min</th>\n",
       "      <td>900.0</td>\n",
       "      <td>0.0</td>\n",
       "      <td>0.000000</td>\n",
       "      <td>21.000000</td>\n",
       "      <td>1964.000000</td>\n",
       "      <td>1.000000</td>\n",
       "      <td>0.026700</td>\n",
       "      <td>42.104300</td>\n",
       "    </tr>\n",
       "    <tr>\n",
       "      <th>25%</th>\n",
       "      <td>900.0</td>\n",
       "      <td>0.0</td>\n",
       "      <td>1.000000</td>\n",
       "      <td>34.000000</td>\n",
       "      <td>1998.000000</td>\n",
       "      <td>4.000000</td>\n",
       "      <td>13.707850</td>\n",
       "      <td>83.792100</td>\n",
       "    </tr>\n",
       "    <tr>\n",
       "      <th>50%</th>\n",
       "      <td>900.0</td>\n",
       "      <td>0.0</td>\n",
       "      <td>1.000000</td>\n",
       "      <td>41.000000</td>\n",
       "      <td>2005.000000</td>\n",
       "      <td>7.000000</td>\n",
       "      <td>20.430300</td>\n",
       "      <td>86.568100</td>\n",
       "    </tr>\n",
       "    <tr>\n",
       "      <th>75%</th>\n",
       "      <td>900.0</td>\n",
       "      <td>0.0</td>\n",
       "      <td>1.000000</td>\n",
       "      <td>47.000000</td>\n",
       "      <td>2009.000000</td>\n",
       "      <td>9.000000</td>\n",
       "      <td>28.314650</td>\n",
       "      <td>89.078050</td>\n",
       "    </tr>\n",
       "    <tr>\n",
       "      <th>max</th>\n",
       "      <td>900.0</td>\n",
       "      <td>0.0</td>\n",
       "      <td>1.000000</td>\n",
       "      <td>63.000000</td>\n",
       "      <td>2015.000000</td>\n",
       "      <td>12.000000</td>\n",
       "      <td>40.761900</td>\n",
       "      <td>100.711600</td>\n",
       "    </tr>\n",
       "  </tbody>\n",
       "</table>\n",
       "</div>"
      ],
      "text/plain": [
       "       car_level  driver_authorized        gender           age  \\\n",
       "count    17979.0            17979.0  17979.000000  17979.000000   \n",
       "mean       900.0                0.0      0.961121     40.813171   \n",
       "std          0.0                0.0      0.193311      8.481247   \n",
       "min        900.0                0.0      0.000000     21.000000   \n",
       "25%        900.0                0.0      1.000000     34.000000   \n",
       "50%        900.0                0.0      1.000000     41.000000   \n",
       "75%        900.0                0.0      1.000000     47.000000   \n",
       "max        900.0                0.0      1.000000     63.000000   \n",
       "\n",
       "       license_issue_1  license_issue_2     work_time  service_score  \n",
       "count     17979.000000     17979.000000  17979.000000   17979.000000  \n",
       "mean       2003.417932         6.636910     19.798982      86.291727  \n",
       "std           6.698062         3.413911      9.154004       5.214407  \n",
       "min        1964.000000         1.000000      0.026700      42.104300  \n",
       "25%        1998.000000         4.000000     13.707850      83.792100  \n",
       "50%        2005.000000         7.000000     20.430300      86.568100  \n",
       "75%        2009.000000         9.000000     28.314650      89.078050  \n",
       "max        2015.000000        12.000000     40.761900     100.711600  "
      ]
     },
     "execution_count": 130,
     "metadata": {},
     "output_type": "execute_result"
    }
   ],
   "source": [
    "df = pd.DataFrame(cl_4,columns=columns)\n",
    "df.describe()"
   ]
  },
  {
   "cell_type": "markdown",
   "metadata": {},
   "source": [
    "### Cluster#5"
   ]
  },
  {
   "cell_type": "code",
   "execution_count": 133,
   "metadata": {},
   "outputs": [
    {
     "data": {
      "image/png": "[encoded data removed]",
      "text/plain": [
       "<matplotlib.figure.Figure at 0x18a78382860>"
      ]
     },
     "metadata": {},
     "output_type": "display_data"
    }
   ],
   "source": [
    "cl_5=X[y_km==4]\n",
    "plt.boxplot(cl_5);"
   ]
  },
  {
   "cell_type": "code",
   "execution_count": 132,
   "metadata": {},
   "outputs": [
    {
     "data": {
      "text/html": [
       "<div>\n",
       "<style>\n",
       "    .dataframe thead tr:only-child th {\n",
       "        text-align: right;\n",
       "    }\n",
       "\n",
       "    .dataframe thead th {\n",
       "        text-align: left;\n",
       "    }\n",
       "\n",
       "    .dataframe tbody tr th {\n",
       "        vertical-align: top;\n",
       "    }\n",
       "</style>\n",
       "<table border=\"1\" class=\"dataframe\">\n",
       "  <thead>\n",
       "    <tr style=\"text-align: right;\">\n",
       "      <th></th>\n",
       "      <th>car_level</th>\n",
       "      <th>driver_authorized</th>\n",
       "      <th>gender</th>\n",
       "      <th>age</th>\n",
       "      <th>license_issue_1</th>\n",
       "      <th>license_issue_2</th>\n",
       "      <th>work_time</th>\n",
       "      <th>service_score</th>\n",
       "    </tr>\n",
       "  </thead>\n",
       "  <tbody>\n",
       "    <tr>\n",
       "      <th>count</th>\n",
       "      <td>858.000000</td>\n",
       "      <td>858.000000</td>\n",
       "      <td>858.000000</td>\n",
       "      <td>858.000000</td>\n",
       "      <td>858.000000</td>\n",
       "      <td>858.000000</td>\n",
       "      <td>858.000000</td>\n",
       "      <td>858.000000</td>\n",
       "    </tr>\n",
       "    <tr>\n",
       "      <th>mean</th>\n",
       "      <td>512.470862</td>\n",
       "      <td>0.005828</td>\n",
       "      <td>0.923077</td>\n",
       "      <td>37.421911</td>\n",
       "      <td>0.466200</td>\n",
       "      <td>0.025641</td>\n",
       "      <td>26.649616</td>\n",
       "      <td>85.397408</td>\n",
       "    </tr>\n",
       "    <tr>\n",
       "      <th>std</th>\n",
       "      <td>79.939897</td>\n",
       "      <td>0.076160</td>\n",
       "      <td>0.266625</td>\n",
       "      <td>7.595312</td>\n",
       "      <td>9.650456</td>\n",
       "      <td>0.530775</td>\n",
       "      <td>3.453928</td>\n",
       "      <td>7.657997</td>\n",
       "    </tr>\n",
       "    <tr>\n",
       "      <th>min</th>\n",
       "      <td>100.000000</td>\n",
       "      <td>0.000000</td>\n",
       "      <td>0.000000</td>\n",
       "      <td>23.000000</td>\n",
       "      <td>0.000000</td>\n",
       "      <td>0.000000</td>\n",
       "      <td>19.135700</td>\n",
       "      <td>23.306900</td>\n",
       "    </tr>\n",
       "    <tr>\n",
       "      <th>25%</th>\n",
       "      <td>500.000000</td>\n",
       "      <td>0.000000</td>\n",
       "      <td>1.000000</td>\n",
       "      <td>31.250000</td>\n",
       "      <td>0.000000</td>\n",
       "      <td>0.000000</td>\n",
       "      <td>23.842000</td>\n",
       "      <td>81.764325</td>\n",
       "    </tr>\n",
       "    <tr>\n",
       "      <th>50%</th>\n",
       "      <td>500.000000</td>\n",
       "      <td>0.000000</td>\n",
       "      <td>1.000000</td>\n",
       "      <td>36.000000</td>\n",
       "      <td>0.000000</td>\n",
       "      <td>0.000000</td>\n",
       "      <td>27.530000</td>\n",
       "      <td>85.966950</td>\n",
       "    </tr>\n",
       "    <tr>\n",
       "      <th>75%</th>\n",
       "      <td>500.000000</td>\n",
       "      <td>0.000000</td>\n",
       "      <td>1.000000</td>\n",
       "      <td>42.000000</td>\n",
       "      <td>0.000000</td>\n",
       "      <td>0.000000</td>\n",
       "      <td>29.426300</td>\n",
       "      <td>89.663250</td>\n",
       "    </tr>\n",
       "    <tr>\n",
       "      <th>max</th>\n",
       "      <td>900.000000</td>\n",
       "      <td>1.000000</td>\n",
       "      <td>1.000000</td>\n",
       "      <td>57.000000</td>\n",
       "      <td>200.000000</td>\n",
       "      <td>11.000000</td>\n",
       "      <td>32.905500</td>\n",
       "      <td>100.791000</td>\n",
       "    </tr>\n",
       "  </tbody>\n",
       "</table>\n",
       "</div>"
      ],
      "text/plain": [
       "        car_level  driver_authorized      gender         age  license_issue_1  \\\n",
       "count  858.000000         858.000000  858.000000  858.000000       858.000000   \n",
       "mean   512.470862           0.005828    0.923077   37.421911         0.466200   \n",
       "std     79.939897           0.076160    0.266625    7.595312         9.650456   \n",
       "min    100.000000           0.000000    0.000000   23.000000         0.000000   \n",
       "25%    500.000000           0.000000    1.000000   31.250000         0.000000   \n",
       "50%    500.000000           0.000000    1.000000   36.000000         0.000000   \n",
       "75%    500.000000           0.000000    1.000000   42.000000         0.000000   \n",
       "max    900.000000           1.000000    1.000000   57.000000       200.000000   \n",
       "\n",
       "       license_issue_2   work_time  service_score  \n",
       "count       858.000000  858.000000     858.000000  \n",
       "mean          0.025641   26.649616      85.397408  \n",
       "std           0.530775    3.453928       7.657997  \n",
       "min           0.000000   19.135700      23.306900  \n",
       "25%           0.000000   23.842000      81.764325  \n",
       "50%           0.000000   27.530000      85.966950  \n",
       "75%           0.000000   29.426300      89.663250  \n",
       "max          11.000000   32.905500     100.791000  "
      ]
     },
     "execution_count": 132,
     "metadata": {},
     "output_type": "execute_result"
    }
   ],
   "source": [
    "df = pd.DataFrame(cl_5,columns=columns)\n",
    "df.describe()"
   ]
  },
  {
   "cell_type": "code",
   "execution_count": null,
   "metadata": {
    "collapsed": true
   },
   "outputs": [],
   "source": []
  }
 ],
 "metadata": {
  "kernelspec": {
   "display_name": "Python 3",
   "language": "python",
   "name": "python3"
  },
  "language_info": {
   "codemirror_mode": {
    "name": "ipython",
    "version": 3
   },
   "file_extension": ".py",
   "mimetype": "text/x-python",
   "name": "python",
   "nbconvert_exporter": "python",
   "pygments_lexer": "ipython3",
   "version": "3.6.3"
  }
 },
 "nbformat": 4,
 "nbformat_minor": 2
}
